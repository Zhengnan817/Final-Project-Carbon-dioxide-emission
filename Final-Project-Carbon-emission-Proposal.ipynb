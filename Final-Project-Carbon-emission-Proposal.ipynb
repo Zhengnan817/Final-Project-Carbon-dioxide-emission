{
 "cells": [
  {
   "cell_type": "markdown",
   "metadata": {},
   "source": [
    "## Final Project Proposal-Carbon Emission Research\n",
    "Team Member:Ruoyu Chen, Wei Lo, Zhengnan Li"
   ]
  },
  {
   "cell_type": "markdown",
   "metadata": {},
   "source": [
    "## Introduction"
   ]
  },
  {
   "cell_type": "markdown",
   "metadata": {},
   "source": [
    "The issue of carbon dioxide (CO2) emissions is a significant global concern, particularly regarding its impact on climate change and the environment. The United States, as one of the world's top contributors to CO2 emissions, is a focal point for this research. We aim to investigate CO2 emissions in the USA at various levels, including emissions by state, their sources, and their connection to the country's economic performance, measured by the Gross Domestic Product (GDP).This study aims to provide insights into the patterns, factors, and potential implications of carbon emissions in the USA. By comparing this information with the country's economic growth, we hope to reveal the relationship between economic prosperity and environmental impact."
   ]
  },
  {
   "cell_type": "markdown",
   "metadata": {},
   "source": [
    "## Research Questions"
   ]
  },
  {
   "cell_type": "markdown",
   "metadata": {},
   "source": [
    "Question Statement:\n",
    "<li> Research Question 1: What are the carbon Coefficients by Product in the USA and how it changes over time? </li>\n",
    "\n",
    "Exploring historical trends in carbon emissions across diverse emission sources and various states in the USA is crucial for informed policymaking and environmental planning. The results obtained from this research could significantly impact policymaking decisions related to environmental regulations and resource allocation at both federal and state levels. Understanding the varying emission trends among different states and sectors can guide targeted strategies for emission reduction, facilitating the implementation of tailored policies and initiatives to mitigate environmental impact.\n",
    "<li> Research Question 2: What are the historical trends in carbon Coefficients by Product in the USA? </li>\n",
    "\n",
    "Uncovering historical trends in carbon coefficients by product within the USA provides valuable insights for industries and policymakers. These findings can aid industries in assessing their carbon footprints associated with specific products, thereby fostering more sustainable production practices. Moreover, policymakers can utilize these results to design regulations and incentives to encourage industries to adopt greener technologies and manufacturing processes, aiming to reduce the carbon intensity of various products over time.\n",
    "<li> Research Question 3: Can we identify correlations between economic indicators (such as GDP growth) and carbon emissions?  </li>\n",
    "\n",
    "Identifying correlations between economic indicators, like GDP growth, and carbon emissions offers substantial implications for both economic and environmental sectors. Understanding this relationship can guide policymakers in finding a balance between economic development and environmental conservation. These findings can influence the design of economic policies that prioritize sustainability and emission reduction, ensuring that economic growth aligns with environmental goals and drives the implementation of greener practices across industries.\n",
    "\n",
    "Research used in the \"Real World\":\n",
    "\n",
    "As we know, the carbon dioxide emission is an essential factor to environment. Fisrt thing we are going to do is observing the carbon dioxide emission trend in the histroy by different states, products, and different sources as time goes by. So that we can find out what emission sources is the main factor and when the emissions grows quickly.\n",
    "\n",
    "The last question can observe if or when the relationship between GDP and carbon dioxide emission are decoupled. Because With the growth of GDP, people's environmental awareness gradually increases, the development of more clean technologies and the transformation of renewable energy, GDP growth and carbon emissions are gradually decoupled.\n"
   ]
  },
  {
   "cell_type": "markdown",
   "metadata": {},
   "source": [
    "## Data to be Used"
   ]
  },
  {
   "cell_type": "markdown",
   "metadata": {},
   "source": [
    "To reach feasible answers to the above questions and paint a precise picture of the relationship between carbon emision and GDP, we will be using data from several sources in two different formats to meet the final project requirements.\n",
    "\n",
    "Data sources are as follows:\n",
    "\n",
    "<li> US Energy Information Administration (EIA) :The data we found is about emission. It has time, emission source, fuel and values. We’ll extract historical data on the emission value by this source:</li>\n",
    "\n",
    "https://www.eia.gov/opendata/\n",
    "\n",
    "\n",
    "<li> Bureau of Economic Analysis (BEA):\n",
    "Bureau of Economic Analysis (BEA) website : Data analysis in the economic domain will be conducted using information from the Bureau of Economic Analysis (BEA) website:.</li>\n",
    "\n",
    "https://www.bea.gov/data/gdp/gdp-state\n",
    "\n",
    "Integrating datasets from these sources will enable a holistic examination of the intricate relationship between economic indicators, energy consumption, and carbon emissions, providing a multifaceted perspective on the environmental impact of economic activities."
   ]
  },
  {
   "cell_type": "markdown",
   "metadata": {},
   "source": [
    "## Approach"
   ]
  },
  {
   "cell_type": "markdown",
   "metadata": {},
   "source": [
    "In order to address the research questions and find out the relationship between carbon emissions and economic performance, we planned to collect data from the API and csv. We will integrate and combine datasets from these sources to create a comprehensive dataset. This combined dataset will enable us to conduct an examination of the relationship between economic indicators, energy coefficient, and carbon emissions. By bringing together these datasets, we aim to provide a multifaceted perspective on the environmental impact of economic activities.\n",
    "\n",
    "Roles and Responsibilities:\n",
    "Our project team will consist of members with distinct roles and responsibilities:\n",
    "\n",
    "<li>Data Collection and Integration: Ruoyu Chen will be responsible for gathering and integrating data from the data sources and the Data cleaning and EDA.\n",
    "<li>Data Analysis: Wei Lo will be responsible for statistical analyses and draw insights from the integrated dataset.\n",
    "<li>Data Visualization: Zhengnan Li will be responsible for graphical representations to convey our findings effectively.\n",
    "\n",
    "In the meantime, all our members will take parts in all three roles and separate the tasks."
   ]
  }
 ],
 "metadata": {
  "kernelspec": {
   "display_name": "Python 3.8.5 ('yolox')",
   "language": "python",
   "name": "python3"
  },
  "language_info": {
   "codemirror_mode": {
    "name": "ipython",
    "version": 3
   },
   "file_extension": ".py",
   "mimetype": "text/x-python",
   "name": "python",
   "nbconvert_exporter": "python",
   "pygments_lexer": "ipython3",
   "version": "3.8.5"
  },
  "vscode": {
   "interpreter": {
    "hash": "8ef54075041f332877bc209aa71293608dc12058505644605b2811ab06d06494"
   }
  }
 },
 "nbformat": 4,
 "nbformat_minor": 2
}
