{
 "cells": [
  {
   "cell_type": "markdown",
   "metadata": {},
   "source": [
    "<h1 style=\"text-align: center;\">RESEARCH ON CARBON EMISSIONS AND GDP IN USA</h1>\n",
    "<h2 style=\"text-align: center;\">final project for analytic programming</h1>\n",
    "\n",
    "\n",
    "- Team Member: Ruoyu Chen, Wei Lo, Zhengnan Li\n",
    "- Repository: https://github.com/Zhengnan817/Final-Project-Carbon-emission\n"
   ]
  },
  {
   "cell_type": "markdown",
   "metadata": {},
   "source": [
    "## Abstract"
   ]
  },
  {
   "cell_type": "markdown",
   "metadata": {},
   "source": [
    "## 1.Introduction "
   ]
  },
  {
   "cell_type": "markdown",
   "metadata": {},
   "source": [
    "dataset1: gdp:https://raw.githubusercontent.com/Zhengnan817/Final-Project-Carbon-emission/main/SAGDP1__ALL_AREAS_2017_2022.csv  \n",
    "api1: emmission:https://api.eia.gov/v2/co2-emissions/co2-emissions-aggregates/data/?frequency=annual&data[0]=value&sort[0][column]=period&sort[0][direction]=desc&offset=0&length=5000  \n",
    "api2: coefficient:https://api.eia.gov/v2/co2-emissions/co2-emissions-and-carbon-coefficients/data/?frequency=annual&data[0]=carbon-coefficient&data[1]=emissions&sort[0][column]=period&sort[0][direction]=desc&offset=0&length=5000"
   ]
  },
  {
   "cell_type": "markdown",
   "metadata": {},
   "source": [
    "## 2.Research Approach"
   ]
  },
  {
   "cell_type": "markdown",
   "metadata": {},
   "source": [
    "## 3.Exploratory Data Analysis"
   ]
  },
  {
   "cell_type": "code",
   "execution_count": 1,
   "metadata": {},
   "outputs": [],
   "source": [
    "from src.carbon_emission.eda import EDAPerColumn"
   ]
  },
  {
   "cell_type": "markdown",
   "metadata": {},
   "source": [
    "# 4.Data Preparation"
   ]
  },
  {
   "cell_type": "markdown",
   "metadata": {},
   "source": [
    "# 5.Prepped Data Review"
   ]
  },
  {
   "cell_type": "markdown",
   "metadata": {},
   "source": [
    "\n",
    "# 6.Investigative Analysis & Results"
   ]
  },
  {
   "cell_type": "markdown",
   "metadata": {},
   "source": [
    "# 7.Conclusions "
   ]
  }
 ],
 "metadata": {
  "kernelspec": {
   "display_name": "Python 3.10.13 ('AP')",
   "language": "python",
   "name": "python3"
  },
  "language_info": {
   "codemirror_mode": {
    "name": "ipython",
    "version": 3
   },
   "file_extension": ".py",
   "mimetype": "text/x-python",
   "name": "python",
   "nbconvert_exporter": "python",
   "pygments_lexer": "ipython3",
   "version": "3.10.13"
  },
  "orig_nbformat": 4,
  "vscode": {
   "interpreter": {
    "hash": "b1ed10256b798dfe2af017ac6cb23cd3655eebf7de92fb5ac9de5f54fe908f00"
   }
  }
 },
 "nbformat": 4,
 "nbformat_minor": 2
}
