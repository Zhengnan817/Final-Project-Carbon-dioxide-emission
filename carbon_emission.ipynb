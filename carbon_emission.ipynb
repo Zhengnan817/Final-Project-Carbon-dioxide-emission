{
 "cells": [
  {
   "cell_type": "markdown",
   "metadata": {},
   "source": [
    "<h1 style=\"text-align: center;\">RESEARCH ON CARBON EMISSIONS AND GDP IN USA</h1>\n",
    "<h2 style=\"text-align: center;\">final project for analytic programming</h1>\n",
    "\n",
    "\n",
    "- Team Member: Ruoyu Chen, Wei Lo, Zhengnan Li\n",
    "- Repository: https://github.com/Zhengnan817/Final-Project-Carbon-emission\n"
   ]
  },
  {
   "cell_type": "markdown",
   "metadata": {},
   "source": [
    "## Abstract"
   ]
  },
  {
   "cell_type": "markdown",
   "metadata": {},
   "source": [
    "dataset1: gdp:\n",
    "api1: emmission:https://api.eia.gov/v2/co2-emissions/co2-emissions-aggregates/data/?frequency=annual&data[0]=value&sort[0][column]=period&sort[0][direction]=desc&offset=0&length=5000  \n",
    "api2: coefficient:https://api.eia.gov/v2/co2-emissions/co2-emissions-and-carbon-coefficients/data/?frequency=annual&data[0]=carbon-coefficient&data[1]=emissions&sort[0][column]=period&sort[0][direction]=desc&offset=0&length=5000"
   ]
  },
  {
   "cell_type": "markdown",
   "metadata": {},
   "source": [
    "## 1.Introduction \n",
    "Describe your project, including the scientific or business motivation for the research question you have chosen to answer. This section should summarize the content of your Final Project Proposal, so be sure to explain your research question, describe the source and content of the data set you have chosen to work with, and summarize your approach to meeting the requirements for the Project."
   ]
  },
  {
   "cell_type": "markdown",
   "metadata": {},
   "source": [
    "#### 1.1 Significance of the Study"
   ]
  },
  {
   "cell_type": "markdown",
   "metadata": {},
   "source": [
    "#### 1.2 Research Questiom"
   ]
  },
  {
   "cell_type": "markdown",
   "metadata": {},
   "source": [
    "#### 1.3 Data Source"
   ]
  },
  {
   "cell_type": "markdown",
   "metadata": {},
   "source": [
    "#### 1.3.1 dataset1 - BEA GDP by State\n",
    "BEA estimates the value of the goods and services produced in each state and the District of Columbia quarterly and annually. The data include breakdowns of industries' contributions to each of these economies.\n",
    "\n",
    "- Link: https://www.bea.gov/data/gdp/gdp-state\n",
    "- Data Variables:\n",
    "\n",
    "| Variable          | Description                                                                                     |\n",
    "|-------------------|-------------------------------------------------------------------------------------------------|\n",
    "| GeoFIPS           | The Geographic identifier                                                                       |\n",
    "| GeoName           | Name of the geographical region(State name)                                                     |\n",
    "| Region            | Region ID                                                                                       |\n",
    "| TableName         | Table name(There are different table on the website)                                            |\n",
    "| LineCode          | Indicater of the current escription                                                             |\n",
    "| IndustryClassification | The classification of the industry                                                         |\n",
    "| Description       | The type of data indicates                                                                      |\n",
    "| Unit              | Unit of measurement                                                                             |\n",
    "| 2017-2022         | Data for the years 2017 to 2022                                                                 |\n",
    "\n",
    "Load the data and show the first 5 rows:"
   ]
  },
  {
   "cell_type": "code",
   "execution_count": 1,
   "metadata": {},
   "outputs": [
    {
     "data": {
      "text/html": [
       "<div>\n",
       "<style scoped>\n",
       "    .dataframe tbody tr th:only-of-type {\n",
       "        vertical-align: middle;\n",
       "    }\n",
       "\n",
       "    .dataframe tbody tr th {\n",
       "        vertical-align: top;\n",
       "    }\n",
       "\n",
       "    .dataframe thead th {\n",
       "        text-align: right;\n",
       "    }\n",
       "</style>\n",
       "<table border=\"1\" class=\"dataframe\">\n",
       "  <thead>\n",
       "    <tr style=\"text-align: right;\">\n",
       "      <th></th>\n",
       "      <th>GeoFIPS</th>\n",
       "      <th>GeoName</th>\n",
       "      <th>Region</th>\n",
       "      <th>TableName</th>\n",
       "      <th>LineCode</th>\n",
       "      <th>IndustryClassification</th>\n",
       "      <th>Description</th>\n",
       "      <th>Unit</th>\n",
       "      <th>2017</th>\n",
       "      <th>2018</th>\n",
       "      <th>2019</th>\n",
       "      <th>2020</th>\n",
       "      <th>2021</th>\n",
       "      <th>2022</th>\n",
       "    </tr>\n",
       "  </thead>\n",
       "  <tbody>\n",
       "    <tr>\n",
       "      <th>0</th>\n",
       "      <td>\"00000\"</td>\n",
       "      <td>United States</td>\n",
       "      <td></td>\n",
       "      <td>SAGDP1</td>\n",
       "      <td>1.0</td>\n",
       "      <td>...</td>\n",
       "      <td>Real GDP (millions of chained 2017 dollars) 1/</td>\n",
       "      <td>Millions of chained 2017 dollars</td>\n",
       "      <td>19612102.0</td>\n",
       "      <td>2.019390e+07</td>\n",
       "      <td>2.069209e+07</td>\n",
       "      <td>2.023407e+07</td>\n",
       "      <td>2.140769e+07</td>\n",
       "      <td>2.182204e+07</td>\n",
       "    </tr>\n",
       "    <tr>\n",
       "      <th>1</th>\n",
       "      <td>\"00000\"</td>\n",
       "      <td>United States</td>\n",
       "      <td></td>\n",
       "      <td>SAGDP1</td>\n",
       "      <td>2.0</td>\n",
       "      <td>...</td>\n",
       "      <td>Chain-type quantity indexes for real GDP</td>\n",
       "      <td>Quantity index</td>\n",
       "      <td>100.0</td>\n",
       "      <td>1.029670e+02</td>\n",
       "      <td>1.055070e+02</td>\n",
       "      <td>1.031710e+02</td>\n",
       "      <td>1.091560e+02</td>\n",
       "      <td>1.112680e+02</td>\n",
       "    </tr>\n",
       "    <tr>\n",
       "      <th>2</th>\n",
       "      <td>\"00000\"</td>\n",
       "      <td>United States</td>\n",
       "      <td></td>\n",
       "      <td>SAGDP1</td>\n",
       "      <td>3.0</td>\n",
       "      <td>...</td>\n",
       "      <td>Current-dollar GDP (millions of current dollars)</td>\n",
       "      <td>Millions of current dollars</td>\n",
       "      <td>19612102.0</td>\n",
       "      <td>2.065652e+07</td>\n",
       "      <td>2.152140e+07</td>\n",
       "      <td>2.132295e+07</td>\n",
       "      <td>2.359403e+07</td>\n",
       "      <td>2.574411e+07</td>\n",
       "    </tr>\n",
       "    <tr>\n",
       "      <th>3</th>\n",
       "      <td>\"00000\"</td>\n",
       "      <td>United States</td>\n",
       "      <td></td>\n",
       "      <td>SAGDP1</td>\n",
       "      <td>4.0</td>\n",
       "      <td>...</td>\n",
       "      <td>Compensation (millions of dollars)</td>\n",
       "      <td>Millions of current dollars</td>\n",
       "      <td>10434978.0</td>\n",
       "      <td>1.096769e+07</td>\n",
       "      <td>1.145978e+07</td>\n",
       "      <td>1.160229e+07</td>\n",
       "      <td>1.255663e+07</td>\n",
       "      <td>1.345524e+07</td>\n",
       "    </tr>\n",
       "    <tr>\n",
       "      <th>4</th>\n",
       "      <td>\"00000\"</td>\n",
       "      <td>United States</td>\n",
       "      <td></td>\n",
       "      <td>SAGDP1</td>\n",
       "      <td>5.0</td>\n",
       "      <td>...</td>\n",
       "      <td>Gross operating surplus (millions of dollars)</td>\n",
       "      <td>Millions of current dollars</td>\n",
       "      <td>7873027.0</td>\n",
       "      <td>8.295055e+06</td>\n",
       "      <td>8.601459e+06</td>\n",
       "      <td>8.857004e+06</td>\n",
       "      <td>9.848221e+06</td>\n",
       "      <td>1.060610e+07</td>\n",
       "    </tr>\n",
       "  </tbody>\n",
       "</table>\n",
       "</div>"
      ],
      "text/plain": [
       "    GeoFIPS        GeoName Region TableName  LineCode IndustryClassification  \\\n",
       "0   \"00000\"  United States           SAGDP1       1.0                    ...   \n",
       "1   \"00000\"  United States           SAGDP1       2.0                    ...   \n",
       "2   \"00000\"  United States           SAGDP1       3.0                    ...   \n",
       "3   \"00000\"  United States           SAGDP1       4.0                    ...   \n",
       "4   \"00000\"  United States           SAGDP1       5.0                    ...   \n",
       "\n",
       "                                         Description  \\\n",
       "0     Real GDP (millions of chained 2017 dollars) 1/   \n",
       "1          Chain-type quantity indexes for real GDP    \n",
       "2  Current-dollar GDP (millions of current dollars)    \n",
       "3                Compensation (millions of dollars)    \n",
       "4     Gross operating surplus (millions of dollars)    \n",
       "\n",
       "                               Unit        2017          2018          2019  \\\n",
       "0  Millions of chained 2017 dollars  19612102.0  2.019390e+07  2.069209e+07   \n",
       "1                    Quantity index       100.0  1.029670e+02  1.055070e+02   \n",
       "2       Millions of current dollars  19612102.0  2.065652e+07  2.152140e+07   \n",
       "3       Millions of current dollars  10434978.0  1.096769e+07  1.145978e+07   \n",
       "4       Millions of current dollars   7873027.0  8.295055e+06  8.601459e+06   \n",
       "\n",
       "           2020          2021          2022  \n",
       "0  2.023407e+07  2.140769e+07  2.182204e+07  \n",
       "1  1.031710e+02  1.091560e+02  1.112680e+02  \n",
       "2  2.132295e+07  2.359403e+07  2.574411e+07  \n",
       "3  1.160229e+07  1.255663e+07  1.345524e+07  \n",
       "4  8.857004e+06  9.848221e+06  1.060610e+07  "
      ]
     },
     "execution_count": 1,
     "metadata": {},
     "output_type": "execute_result"
    }
   ],
   "source": [
    "import pandas as pd\n",
    "dataset1_url = \"https://raw.githubusercontent.com/Zhengnan817/Final-Project-Carbon-emission/main/SAGDP1__ALL_AREAS_2017_2022.csv\"\n",
    "df_gdp_raw = pd.read_csv(dataset1_url)\n",
    "df_gdp_raw.head()"
   ]
  },
  {
   "cell_type": "markdown",
   "metadata": {},
   "source": [
    "#### 1.3.2 dataset2 - Carbon Dioxide Emissions\n",
    "The U.S. Energy Information Administration is committed to its free and open data by making it available through an Application Programming Interface (API) and its open data tools. EIA's API is multi-facetted and contains the following time-series data sets organized by the main energy categories.\n",
    "\n",
    "- Link: https://www.eia.gov/opendata/browser/co2-emissions/co2-emissions-aggregates\n",
    "- Data Variables:\n",
    "\n",
    "| Variable       | Description                                        |\n",
    "|----------------|----------------------------------------------------|\n",
    "| period         | The year of the recorded data                       |\n",
    "| sectorId       | Sector identifier                                  |\n",
    "| sector-name    | Name of the sector of the corbon diocide emission source (Commercial, Residential,Electric Power,etc.)                |\n",
    "| fuelId         | Fuel identifier                                    |\n",
    "| fuel-name      | Name of the fuel that produce co2(Petroleum,Coal,Natural Gas)                                    |\n",
    "| stateId        | State identifier                                   |\n",
    "| state-name     | Name of the state or region                         |\n",
    "\n",
    "Load the data using class APIReader and show the first 5 rows:"
   ]
  },
  {
   "cell_type": "code",
   "execution_count": 2,
   "metadata": {},
   "outputs": [
    {
     "name": "stderr",
     "output_type": "stream",
     "text": [
      "Fetching Data: 100%|██████████| 5/5 [00:04<00:00,  1.14it/s]\n"
     ]
    },
    {
     "data": {
      "text/html": [
       "<div>\n",
       "<style scoped>\n",
       "    .dataframe tbody tr th:only-of-type {\n",
       "        vertical-align: middle;\n",
       "    }\n",
       "\n",
       "    .dataframe tbody tr th {\n",
       "        vertical-align: top;\n",
       "    }\n",
       "\n",
       "    .dataframe thead th {\n",
       "        text-align: right;\n",
       "    }\n",
       "</style>\n",
       "<table border=\"1\" class=\"dataframe\">\n",
       "  <thead>\n",
       "    <tr style=\"text-align: right;\">\n",
       "      <th></th>\n",
       "      <th>period</th>\n",
       "      <th>sectorId</th>\n",
       "      <th>sector-name</th>\n",
       "      <th>fuelId</th>\n",
       "      <th>fuel-name</th>\n",
       "      <th>stateId</th>\n",
       "      <th>state-name</th>\n",
       "    </tr>\n",
       "  </thead>\n",
       "  <tbody>\n",
       "    <tr>\n",
       "      <th>0</th>\n",
       "      <td>2017</td>\n",
       "      <td>CC</td>\n",
       "      <td>Commercial carbon dioxide emissions</td>\n",
       "      <td>PE</td>\n",
       "      <td>Petroleum</td>\n",
       "      <td>AK</td>\n",
       "      <td>Alaska</td>\n",
       "    </tr>\n",
       "    <tr>\n",
       "      <th>1</th>\n",
       "      <td>2017</td>\n",
       "      <td>CC</td>\n",
       "      <td>Commercial carbon dioxide emissions</td>\n",
       "      <td>CO</td>\n",
       "      <td>Coal</td>\n",
       "      <td>AK</td>\n",
       "      <td>Alaska</td>\n",
       "    </tr>\n",
       "    <tr>\n",
       "      <th>2</th>\n",
       "      <td>2017</td>\n",
       "      <td>CC</td>\n",
       "      <td>Commercial carbon dioxide emissions</td>\n",
       "      <td>NG</td>\n",
       "      <td>Natural Gas</td>\n",
       "      <td>AK</td>\n",
       "      <td>Alaska</td>\n",
       "    </tr>\n",
       "    <tr>\n",
       "      <th>3</th>\n",
       "      <td>2017</td>\n",
       "      <td>CC</td>\n",
       "      <td>Commercial carbon dioxide emissions</td>\n",
       "      <td>TO</td>\n",
       "      <td>All Fuels</td>\n",
       "      <td>AK</td>\n",
       "      <td>Alaska</td>\n",
       "    </tr>\n",
       "    <tr>\n",
       "      <th>4</th>\n",
       "      <td>2017</td>\n",
       "      <td>EC</td>\n",
       "      <td>Electric Power carbon dioxide emissions</td>\n",
       "      <td>PE</td>\n",
       "      <td>Petroleum</td>\n",
       "      <td>AK</td>\n",
       "      <td>Alaska</td>\n",
       "    </tr>\n",
       "  </tbody>\n",
       "</table>\n",
       "</div>"
      ],
      "text/plain": [
       "   period sectorId                              sector-name fuelId  \\\n",
       "0    2017       CC      Commercial carbon dioxide emissions     PE   \n",
       "1    2017       CC      Commercial carbon dioxide emissions     CO   \n",
       "2    2017       CC      Commercial carbon dioxide emissions     NG   \n",
       "3    2017       CC      Commercial carbon dioxide emissions     TO   \n",
       "4    2017       EC  Electric Power carbon dioxide emissions     PE   \n",
       "\n",
       "     fuel-name stateId state-name  \n",
       "0    Petroleum      AK     Alaska  \n",
       "1         Coal      AK     Alaska  \n",
       "2  Natural Gas      AK     Alaska  \n",
       "3    All Fuels      AK     Alaska  \n",
       "4    Petroleum      AK     Alaska  "
      ]
     },
     "execution_count": 2,
     "metadata": {},
     "output_type": "execute_result"
    }
   ],
   "source": [
    "from carbon_emission.data_prep import APIReader\n",
    "reader = APIReader()\n",
    "df_co2_raw = reader.get_data()\n",
    "df_co2_raw.head()"
   ]
  },
  {
   "cell_type": "markdown",
   "metadata": {},
   "source": [
    "## 2.Research Approach"
   ]
  },
  {
   "cell_type": "markdown",
   "metadata": {},
   "source": [
    "## 3.Exploratory Data Analysis"
   ]
  },
  {
   "cell_type": "markdown",
   "metadata": {},
   "source": [
    "#### 3.1 Dataset1 - BEA GDP by State\n",
    "First initialize the class EDAPerformer."
   ]
  },
  {
   "cell_type": "code",
   "execution_count": 3,
   "metadata": {},
   "outputs": [
    {
     "name": "stdout",
     "output_type": "stream",
     "text": [
      "['GeoFIPS', 'GeoName', 'Region', 'TableName', 'LineCode', 'IndustryClassification', 'Description', 'Unit', '2017', '2018', '2019', '2020', '2021', '2022']\n"
     ]
    }
   ],
   "source": [
    "from carbon_emission.eda import EDAPerformer\n",
    "eda_gdp = EDAPerformer(df_gdp_raw)"
   ]
  },
  {
   "cell_type": "markdown",
   "metadata": {},
   "source": [
    "##### - GeoFIPS & Region & LineCode  \n",
    "GeoFIPS and Region is the id of each state in the USA, each id indicates a different state;  Line code is the indicator of each description.  \n",
    "The id has no meaning for this analysis thus These columns can be dropped."
   ]
  },
  {
   "cell_type": "markdown",
   "metadata": {},
   "source": [
    "##### - GeoName\n",
    "GeoName is the name of the geographical region. This column contains 60 unique elements representing states or regions in the United States, including 1 United States, 50 individual states, 1 Washington district, and 8 regions (such as New England, Mideast, Great Lakes, etc.)."
   ]
  },
  {
   "cell_type": "code",
   "execution_count": 4,
   "metadata": {},
   "outputs": [
    {
     "data": {
      "text/plain": [
       "count               480\n",
       "unique               60\n",
       "top       United States\n",
       "freq                  8\n",
       "Name: GeoName, dtype: object"
      ]
     },
     "metadata": {},
     "output_type": "display_data"
    },
    {
     "data": {
      "text/plain": [
       "array(['United States', 'Alabama', 'Alaska', 'Arizona', 'Arkansas',\n",
       "       'California', 'Colorado', 'Connecticut', 'Delaware',\n",
       "       'District of Columbia', 'Florida', 'Georgia', 'Hawaii', 'Idaho',\n",
       "       'Illinois', 'Indiana', 'Iowa', 'Kansas', 'Kentucky', 'Louisiana',\n",
       "       'Maine', 'Maryland', 'Massachusetts', 'Michigan', 'Minnesota',\n",
       "       'Mississippi', 'Missouri', 'Montana', 'Nebraska', 'Nevada',\n",
       "       'New Hampshire', 'New Jersey', 'New Mexico', 'New York',\n",
       "       'North Carolina', 'North Dakota', 'Ohio', 'Oklahoma', 'Oregon',\n",
       "       'Pennsylvania', 'Rhode Island', 'South Carolina', 'South Dakota',\n",
       "       'Tennessee', 'Texas', 'Utah', 'Vermont', 'Virginia', 'Washington',\n",
       "       'West Virginia', 'Wisconsin', 'Wyoming', 'New England', 'Mideast',\n",
       "       'Great Lakes', 'Plains', 'Southeast', 'Southwest',\n",
       "       'Rocky Mountain', 'Far West', nan], dtype=object)"
      ]
     },
     "execution_count": 4,
     "metadata": {},
     "output_type": "execute_result"
    }
   ],
   "source": [
    "display(df_gdp_raw['GeoName'].describe())\n",
    "df_gdp_raw['GeoName'].unique()"
   ]
  },
  {
   "cell_type": "markdown",
   "metadata": {},
   "source": [
    "##### - TableName & IndustryClassification\n",
    "TableName indicate the code for this whole dataset; IndustryClassification has '...' for all rows.  \n",
    "These two columns has no meaning for this analysis thus These column can be dropped."
   ]
  },
  {
   "cell_type": "code",
   "execution_count": 5,
   "metadata": {},
   "outputs": [
    {
     "data": {
      "text/html": [
       "<div>\n",
       "<style scoped>\n",
       "    .dataframe tbody tr th:only-of-type {\n",
       "        vertical-align: middle;\n",
       "    }\n",
       "\n",
       "    .dataframe tbody tr th {\n",
       "        vertical-align: top;\n",
       "    }\n",
       "\n",
       "    .dataframe thead th {\n",
       "        text-align: right;\n",
       "    }\n",
       "</style>\n",
       "<table border=\"1\" class=\"dataframe\">\n",
       "  <thead>\n",
       "    <tr style=\"text-align: right;\">\n",
       "      <th></th>\n",
       "      <th>TableName</th>\n",
       "      <th>IndustryClassification</th>\n",
       "    </tr>\n",
       "  </thead>\n",
       "  <tbody>\n",
       "    <tr>\n",
       "      <th>count</th>\n",
       "      <td>480</td>\n",
       "      <td>480</td>\n",
       "    </tr>\n",
       "    <tr>\n",
       "      <th>unique</th>\n",
       "      <td>1</td>\n",
       "      <td>1</td>\n",
       "    </tr>\n",
       "    <tr>\n",
       "      <th>top</th>\n",
       "      <td>SAGDP1</td>\n",
       "      <td>...</td>\n",
       "    </tr>\n",
       "    <tr>\n",
       "      <th>freq</th>\n",
       "      <td>480</td>\n",
       "      <td>480</td>\n",
       "    </tr>\n",
       "  </tbody>\n",
       "</table>\n",
       "</div>"
      ],
      "text/plain": [
       "       TableName IndustryClassification\n",
       "count        480                    480\n",
       "unique         1                      1\n",
       "top       SAGDP1                    ...\n",
       "freq         480                    480"
      ]
     },
     "execution_count": 5,
     "metadata": {},
     "output_type": "execute_result"
    }
   ],
   "source": [
    "df_gdp_raw[['TableName','IndustryClassification']].describe()"
   ]
  },
  {
   "cell_type": "markdown",
   "metadata": {},
   "source": [
    "##### - Description\n",
    "Description is the type of data indicates. There are 8 types of data and each has 60 rows of data, each row for a GeoName. The data we need is 'Current-dollar GDP (millions of current dollars)', the rest of the Description type will be dropped."
   ]
  },
  {
   "cell_type": "code",
   "execution_count": 6,
   "metadata": {},
   "outputs": [
    {
     "data": {
      "text/plain": [
       "Description\n",
       "Real GDP (millions of chained 2017 dollars) 1/                                 60\n",
       "Chain-type quantity indexes for real GDP                                       60\n",
       "Current-dollar GDP (millions of current dollars)                               60\n",
       "Compensation (millions of dollars)                                             60\n",
       "Gross operating surplus (millions of dollars)                                  60\n",
       "Taxes on production and imports (TOPI) less subsides (millions of dollars)     60\n",
       " Taxes on production and imports (TOPI) (millions of dollars)                  60\n",
       " Subsidies (millions of dollars)                                               60\n",
       "Name: count, dtype: int64"
      ]
     },
     "execution_count": 6,
     "metadata": {},
     "output_type": "execute_result"
    }
   ],
   "source": [
    "df_gdp_raw['Description'].value_counts()"
   ]
  },
  {
   "cell_type": "markdown",
   "metadata": {},
   "source": [
    "##### - Unit\n",
    "Unit is the unit of measurement. It matches the Description. For this analysis, Current-dollar GDP (millions of current dollars)  has the unit as 'Millions of current dollars'."
   ]
  },
  {
   "cell_type": "markdown",
   "metadata": {},
   "source": [
    "##### - column 2017, 2018, 2019, 2020, 2021, 2022\n",
    "The column 2017-2022 contains the data of each description for the corresponding year. These data will be reshaped from wide format into a long format."
   ]
  },
  {
   "cell_type": "markdown",
   "metadata": {},
   "source": [
    "#### 3.2 Dataset2 - Carbon Dioxide Emissions\n",
    "First initialize the class EDAPerformer."
   ]
  },
  {
   "cell_type": "code",
   "execution_count": 7,
   "metadata": {},
   "outputs": [
    {
     "name": "stdout",
     "output_type": "stream",
     "text": [
      "['period', 'sectorId', 'sector-name', 'fuelId', 'fuel-name', 'stateId', 'state-name']\n"
     ]
    }
   ],
   "source": [
    "eda_co2 = EDAPerformer(df_co2_raw)"
   ]
  },
  {
   "cell_type": "markdown",
   "metadata": {},
   "source": [
    "##### - period\n",
    "Period is the year of the recorded data. There are 5 years of data, and each year has the 1248 rows of data."
   ]
  },
  {
   "cell_type": "code",
   "execution_count": 8,
   "metadata": {},
   "outputs": [
    {
     "data": {
      "text/plain": [
       "period\n",
       "2017    1248\n",
       "2018    1248\n",
       "2019    1248\n",
       "2020    1248\n",
       "2021    1248\n",
       "Name: count, dtype: int64"
      ]
     },
     "execution_count": 8,
     "metadata": {},
     "output_type": "execute_result"
    }
   ],
   "source": [
    "df_co2_raw['period'].value_counts()"
   ]
  },
  {
   "cell_type": "markdown",
   "metadata": {},
   "source": [
    "##### - sectorId & fuelId & stateId\n",
    "sectorId is the identifier of each 'sector-name'; fuelId is the identifier of 'fuel-name'; stateId is the identifier of each 'state-name'.  \n",
    "The id has no meaning for this analysis thus These columns can be dropped."
   ]
  },
  {
   "cell_type": "markdown",
   "metadata": {},
   "source": [
    "##### - sector-name\n",
    "Name of the sector of the corbon diocide emission source. There are 6 sectors of emission source and each source has 1040 rows of data."
   ]
  },
  {
   "cell_type": "code",
   "execution_count": 9,
   "metadata": {},
   "outputs": [
    {
     "data": {
      "text/plain": [
       "sector-name\n",
       "Commercial carbon dioxide emissions                1040\n",
       "Electric Power carbon dioxide emissions            1040\n",
       "Industrial carbon dioxide emissions                1040\n",
       "Residential carbon dioxide emissions               1040\n",
       "Transportation carbon dioxide emissions            1040\n",
       "Total carbon dioxide emissions from all sectors    1040\n",
       "Name: count, dtype: int64"
      ]
     },
     "execution_count": 9,
     "metadata": {},
     "output_type": "execute_result"
    }
   ],
   "source": [
    "df_co2_raw['sector-name'].value_counts()"
   ]
  },
  {
   "cell_type": "markdown",
   "metadata": {},
   "source": [
    "##### - fuel-name\n",
    "Name of the fuel that produce co2. There are 3 types of fuel, and 1 is the sum of 3 types of fuels. Each of the fuel type has 1560 rows of data."
   ]
  },
  {
   "cell_type": "code",
   "execution_count": 10,
   "metadata": {},
   "outputs": [
    {
     "data": {
      "text/plain": [
       "fuel-name\n",
       "Petroleum      1560\n",
       "Coal           1560\n",
       "Natural Gas    1560\n",
       "All Fuels      1560\n",
       "Name: count, dtype: int64"
      ]
     },
     "execution_count": 10,
     "metadata": {},
     "output_type": "execute_result"
    }
   ],
   "source": [
    "df_co2_raw['fuel-name'].value_counts()"
   ]
  },
  {
   "cell_type": "markdown",
   "metadata": {},
   "source": [
    "##### - state-name\n",
    "state-name is the name of the geographical region. This column contains 52 unique elements representing states in the United States, including 1 United States, 50 individual states, and 1 Washington district."
   ]
  },
  {
   "cell_type": "code",
   "execution_count": 12,
   "metadata": {},
   "outputs": [
    {
     "data": {
      "text/plain": [
       "count       6240\n",
       "unique        52\n",
       "top       Alaska\n",
       "freq         120\n",
       "Name: state-name, dtype: object"
      ]
     },
     "metadata": {},
     "output_type": "display_data"
    },
    {
     "data": {
      "text/plain": [
       "array(['Alaska', 'Alabama', 'Arkansas', 'Arizona', 'California',\n",
       "       'Colorado', 'Connecticut', 'District of Columbia', 'Delaware',\n",
       "       'Florida', 'Georgia', 'Hawaii', 'Iowa', 'Idaho', 'Illinois',\n",
       "       'Indiana', 'Kansas', 'Kentucky', 'Louisiana', 'Massachusetts',\n",
       "       'Maryland', 'Maine', 'Michigan', 'Minnesota', 'Missouri',\n",
       "       'Mississippi', 'Montana', 'North Carolina', 'North Dakota',\n",
       "       'Nebraska', 'New Hampshire', 'New Jersey', 'New Mexico', 'Nevada',\n",
       "       'New York', 'Ohio', 'Oklahoma', 'Oregon', 'Pennsylvania',\n",
       "       'Rhode Island', 'South Carolina', 'South Dakota', 'Tennessee',\n",
       "       'Texas', 'United States', 'Utah', 'Virginia', 'Vermont',\n",
       "       'Washington', 'Wisconsin', 'West Virginia', 'Wyoming'],\n",
       "      dtype=object)"
      ]
     },
     "execution_count": 12,
     "metadata": {},
     "output_type": "execute_result"
    }
   ],
   "source": [
    "display(df_co2_raw['state-name'].describe())\n",
    "df_co2_raw['state-name'].unique()"
   ]
  },
  {
   "cell_type": "markdown",
   "metadata": {},
   "source": [
    "# 4.Data Preparation"
   ]
  },
  {
   "cell_type": "markdown",
   "metadata": {},
   "source": [
    "# 5.Prepped Data Review"
   ]
  },
  {
   "cell_type": "markdown",
   "metadata": {},
   "source": [
    "\n",
    "# 6.Investigative Analysis & Results"
   ]
  },
  {
   "cell_type": "markdown",
   "metadata": {},
   "source": [
    "# 7.Conclusions "
   ]
  }
 ],
 "metadata": {
  "kernelspec": {
   "display_name": "Python 3.10.13 ('AP')",
   "language": "python",
   "name": "python3"
  },
  "language_info": {
   "codemirror_mode": {
    "name": "ipython",
    "version": 3
   },
   "file_extension": ".py",
   "mimetype": "text/x-python",
   "name": "python",
   "nbconvert_exporter": "python",
   "pygments_lexer": "ipython3",
   "version": "3.10.13"
  },
  "orig_nbformat": 4,
  "vscode": {
   "interpreter": {
    "hash": "b1ed10256b798dfe2af017ac6cb23cd3655eebf7de92fb5ac9de5f54fe908f00"
   }
  }
 },
 "nbformat": 4,
 "nbformat_minor": 2
}
